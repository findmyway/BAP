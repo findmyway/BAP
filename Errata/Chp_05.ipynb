{
 "cells": [
  {
   "cell_type": "markdown",
   "metadata": {},
   "source": [
    "### Page 171\n",
    "\n",
    "the line\n",
    "\n",
    "`...In all cases, we tried to directly compute p(x | y), that is, the probability of a given class knowing x...`\n",
    "\n",
    "should be\n",
    "\n",
    "`...In all cases, we tried to directly compute p(y | x), that is, the probability of a given class knowing x...`"
   ]
  },
  {
   "cell_type": "code",
   "execution_count": null,
   "metadata": {
    "collapsed": true
   },
   "outputs": [],
   "source": []
  }
 ],
 "metadata": {
  "kernelspec": {
   "display_name": "Python 3",
   "language": "python",
   "name": "python3"
  },
  "language_info": {
   "codemirror_mode": {
    "name": "ipython",
    "version": 3
   },
   "file_extension": ".py",
   "mimetype": "text/x-python",
   "name": "python",
   "nbconvert_exporter": "python",
   "pygments_lexer": "ipython3",
   "version": "3.5.2"
  }
 },
 "nbformat": 4,
 "nbformat_minor": 2
}
